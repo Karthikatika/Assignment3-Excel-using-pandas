{
 "cells": [
  {
   "cell_type": "code",
   "execution_count": 1,
   "id": "1d44769d",
   "metadata": {},
   "outputs": [
    {
     "name": "stdout",
     "output_type": "stream",
     "text": [
      "       Time(sec)   Heater 1  Heater 2  Temperature1  Temperature2\n",
      "count   5.000000   5.000000       5.0      5.000000      5.000000\n",
      "mean    6.031874  70.204573       0.0     21.100000     19.734000\n",
      "std     4.768068   0.000000       0.0      0.076485      0.013416\n",
      "min     0.000000  70.204573       0.0     21.000000     19.710000\n",
      "25%     3.002566  70.204573       0.0     21.060000     19.740000\n",
      "50%     6.051028  70.204573       0.0     21.090000     19.740000\n",
      "75%     9.053199  70.204573       0.0     21.160000     19.740000\n",
      "max    12.052579  70.204573       0.0     21.190000     19.740000\n",
      "21.1\n",
      "21.09\n",
      "0    21.00\n",
      "1    21.06\n",
      "2    21.09\n",
      "3    21.16\n",
      "4    21.19\n",
      "dtype: float64\n",
      "0.07648529270389236\n",
      "0.005850000000000089\n",
      "19.733999999999998\n",
      "19.74\n",
      "0    19.74\n",
      "dtype: float64\n",
      "0.013416407864997659\n",
      "0.000179999999999971\n",
      "       Time(sec)   Heater 1  Heater 2  Temperature1  Temperature2\n",
      "count   5.000000   5.000000       5.0      5.000000      5.000000\n",
      "mean    6.031874  70.204573       0.0     21.100000     19.734000\n",
      "std     4.768068   0.000000       0.0      0.076485      0.013416\n",
      "min     0.000000  70.204573       0.0     21.000000     19.710000\n",
      "25%     3.002566  70.204573       0.0     21.060000     19.740000\n",
      "50%     6.051028  70.204573       0.0     21.090000     19.740000\n",
      "75%     9.053199  70.204573       0.0     21.160000     19.740000\n",
      "max    12.052579  70.204573       0.0     21.190000     19.740000\n"
     ]
    },
    {
     "data": {
      "text/plain": [
       "Text(0, 0.5, 'Heater (%)')"
      ]
     },
     "execution_count": 1,
     "metadata": {},
     "output_type": "execute_result"
    },
    {
     "data": {
      "image/png": "[encoded data removed]",
      "text/plain": [
       "<Figure size 432x288 with 2 Axes>"
      ]
     },
     "metadata": {
      "needs_background": "light"
     },
     "output_type": "display_data"
    }
   ],
   "source": [
    "import pandas as pd\n",
    "import numpy\n",
    "df=pd.read_excel(\"C:/Users/karthika/Downloads/heater1.xlsx\")\n",
    "\n",
    "df.head()\n",
    "df.tail()\n",
    "K=df.describe()\n",
    "print(K)\n",
    "\n",
    "print(df.Temperature1.mean())\n",
    "print(df.Temperature1.median())\n",
    "print(df.Temperature1.mode())\n",
    "print(df.Temperature1.std())\n",
    "print(df.Temperature1.var())\n",
    "\n",
    "print(df.Temperature2.mean())\n",
    "print(df.Temperature2.median())\n",
    "print(df.Temperature2.mode())\n",
    "print(df.Temperature2.std())\n",
    "print(df.Temperature2.var())\n",
    "\n",
    "K=df.describe()\n",
    "print(K)\n",
    "\n",
    "import matplotlib.pyplot as plt\n",
    "%matplotlib inline\n",
    "tm=df[\"Time(sec)\"]\n",
    "plt.figure()\n",
    "plt.subplot(2,1,1)\n",
    "plt.title(\"Analysis of heater\")\n",
    "plt.plot(tm,df[\"Temperature1\"],label=r'$_1$')\n",
    "plt.plot(tm,df[\"Temperature2\"],label=r'$_2$')\n",
    "plt.legend(loc='best')\n",
    "plt.ylabel('Temp (deg C)')\n",
    "\n",
    "plt.subplot(2,1,2)\n",
    "plt.plot(tm,df[\"Heater 1\"])\n",
    "plt.plot(tm,df[\"Heater 2\"])\n",
    "plt.xlabel('Time(sec)')\n",
    "plt.ylabel('Heater (%)')"
   ]
  },
  {
   "cell_type": "code",
   "execution_count": null,
   "id": "30fb2df5",
   "metadata": {},
   "outputs": [],
   "source": []
  }
 ],
 "metadata": {
  "kernelspec": {
   "display_name": "Python 3 (ipykernel)",
   "language": "python",
   "name": "python3"
  },
  "language_info": {
   "codemirror_mode": {
    "name": "ipython",
    "version": 3
   },
   "file_extension": ".py",
   "mimetype": "text/x-python",
   "name": "python",
   "nbconvert_exporter": "python",
   "pygments_lexer": "ipython3",
   "version": "3.9.7"
  }
 },
 "nbformat": 4,
 "nbformat_minor": 5
}
